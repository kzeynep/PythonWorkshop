{
  "nbformat": 4,
  "nbformat_minor": 0,
  "metadata": {
    "colab": {
      "provenance": [],
      "authorship_tag": "ABX9TyPq6QrSaCHY66GElnKoYtOf",
      "include_colab_link": true
    },
    "kernelspec": {
      "name": "python3",
      "display_name": "Python 3"
    },
    "language_info": {
      "name": "python"
    }
  },
  "cells": [
    {
      "cell_type": "markdown",
      "metadata": {
        "id": "view-in-github",
        "colab_type": "text"
      },
      "source": [
        "<a href=\"https://colab.research.google.com/github/kzeynep/python_giris/blob/main/Loops_ifelse.ipynb\" target=\"_parent\"><img src=\"https://colab.research.google.com/assets/colab-badge.svg\" alt=\"Open In Colab\"/></a>"
      ]
    },
    {
      "cell_type": "code",
      "execution_count": 1,
      "metadata": {
        "colab": {
          "base_uri": "https://localhost:8080/"
        },
        "id": "X2WdEAxPw5S3",
        "outputId": "b61e992b-feab-434a-9ae1-e5793edfb357"
      },
      "outputs": [
        {
          "output_type": "stream",
          "name": "stdout",
          "text": [
            "Lütfen skorunuzu giriniz 51\n",
            "Dersten geçtiniz\n"
          ]
        }
      ],
      "source": [
        "skor =int(input(\"Lütfen skorunuzu giriniz \"))\n",
        "if skor > 50 :\n",
        "  print(\"Dersten geçtiniz\")\n",
        "else : \n",
        "  print(\"Dersten kaldınız.\")\n",
        "  "
      ]
    },
    {
      "cell_type": "code",
      "source": [
        "ülke = input(\"Lütfen gönderilecek ülkeyi yazınız. : \")\n",
        "ağırlık = int(input(\"Kargonun ağırlığını giriniz. : \"))\n",
        "if ülke == \"USA\" :\n",
        "  if ağırlık > 10 : \n",
        "    print(\"10 kg dan fazla kargolar ek ücret alınır \")\n",
        "  else : \n",
        "    print(\"Ortalama gönderim zamanı 5 gün \")\n",
        "else : \n",
        "  print(\"Ortalama gönderim zamanı 15 gün \")\n",
        "  "
      ],
      "metadata": {
        "colab": {
          "base_uri": "https://localhost:8080/"
        },
        "id": "ugie1goSydEw",
        "outputId": "200a3d3c-cf9c-45f3-c3d7-d30d8f008098"
      },
      "execution_count": 2,
      "outputs": [
        {
          "output_type": "stream",
          "name": "stdout",
          "text": [
            "Lütfen gönderilecek ülkeyi yazınız. : Turkey\n",
            "Kargonun ağırlığını giriniz. : 25\n",
            "Ortalama gönderim zamanı 15 gün \n"
          ]
        }
      ]
    },
    {
      "cell_type": "code",
      "source": [
        "sayi = int(input(\"Lütfen bir sayi giriniz . :\"))\n",
        "if sayi > 0 :\n",
        "  print(\"Sayimiz pozitif bir sayi.\")\n",
        "elif sayi == 0 :\n",
        "  print(\"Sayimiz sifirdir.\")\n",
        "else :\n",
        "  print(\"Sayimiz negatif.\")"
      ],
      "metadata": {
        "colab": {
          "base_uri": "https://localhost:8080/"
        },
        "id": "29GuEtOT089q",
        "outputId": "d9c2cfe2-54e9-4ea6-e2db-165206cb3628"
      },
      "execution_count": 3,
      "outputs": [
        {
          "output_type": "stream",
          "name": "stdout",
          "text": [
            "Lütfen bir sayi giriniz . :0\n",
            "Sayimiz sifirdir.\n"
          ]
        }
      ]
    },
    {
      "cell_type": "code",
      "source": [
        "print(\"\"\"\n",
        "1-Toplama \n",
        "2-Cikarma\n",
        "3-Carpma\n",
        "4-Bolme\n",
        "5-Kuvvet alma \n",
        "\n",
        "\n",
        "\"\"\")\n",
        "fonksiyon =int(input(\"Yapmak istediğiniz işlemi seçiniz : \"))\n",
        "sayi1=int(input(\"Birinci sayiyi giriniz : \"))\n",
        "sayi2=int(input(\"İkinci sayiyi giriniz :\"))\n",
        "if fonksiyon == 1 :\n",
        "  print(\"Sonuc : \" , sayi1 + sayi2 )\n",
        "elif fonksiyon == 2 :\n",
        "  print(\"Sonuc : \" , sayi1 - sayi2 )\n",
        "elif fonksiyon == 3 :\n",
        "  print(\"Sonuc : \" , sayi1 * sayi2 )\n",
        "elif fonksiyon == 4 :\n",
        "  if (sayi2 == 0) :\n",
        "    print(\"Bölen sifi olamaz !!!!\")\n",
        "  else : \n",
        "    print(\"Sonuc : \" , sayi1 / sayi2 )\n",
        "elif fonksiyon == 5 :\n",
        "  print(\"Sonuc : \" ,  sayi1 ** sayi2 )\n",
        "else :\n",
        "  print(\"Lütfen gecerli bir islem numarasi giriniz ....\")\n"
      ],
      "metadata": {
        "colab": {
          "base_uri": "https://localhost:8080/"
        },
        "id": "IRgVENjM4wq9",
        "outputId": "eb7db871-d085-481b-a251-1701f035ee7f"
      },
      "execution_count": 6,
      "outputs": [
        {
          "output_type": "stream",
          "name": "stdout",
          "text": [
            "\n",
            "1-Toplama \n",
            "2-Cikarma\n",
            "3-Carpma\n",
            "4-Bolme\n",
            "5-Kuvvet alma \n",
            "\n",
            "\n",
            "\n",
            "Yapmak istediğiniz işlemi seçiniz : 5\n",
            "Birinci sayiyi giriniz : 5\n",
            "İkinci sayiyi giriniz :3\n",
            "Sonuc :  125\n"
          ]
        }
      ]
    },
    {
      "cell_type": "code",
      "source": [
        "sayac = 5\n",
        "while sayac > 0 :\n",
        "  print(sayac)\n",
        "  sayac -= 1 "
      ],
      "metadata": {
        "colab": {
          "base_uri": "https://localhost:8080/"
        },
        "id": "GKWSCmQf7a_1",
        "outputId": "ec88c092-3bc2-4a1e-f63f-50327d7da34e"
      },
      "execution_count": 7,
      "outputs": [
        {
          "output_type": "stream",
          "name": "stdout",
          "text": [
            "5\n",
            "4\n",
            "3\n",
            "2\n",
            "1\n"
          ]
        }
      ]
    },
    {
      "cell_type": "code",
      "source": [
        "isimler = ['Ali', 'Veli', 'Ahmet', 'Mehmet','Volkan','Hakan']\n",
        "for isim in isimler :\n",
        "  print(isim)\n",
        "  "
      ],
      "metadata": {
        "colab": {
          "base_uri": "https://localhost:8080/"
        },
        "id": "65qxl29__LcD",
        "outputId": "94fe5cbc-11ad-4339-e544-ce07f7ed7a30"
      },
      "execution_count": 8,
      "outputs": [
        {
          "output_type": "stream",
          "name": "stdout",
          "text": [
            "Ali\n",
            "Veli\n",
            "Ahmet\n",
            "Mehmet\n",
            "Volkan\n",
            "Hakan\n"
          ]
        }
      ]
    },
    {
      "cell_type": "code",
      "source": [
        "for i in range (0,50,2):\n",
        "  print(i)"
      ],
      "metadata": {
        "colab": {
          "base_uri": "https://localhost:8080/"
        },
        "id": "GibgfPiaAYez",
        "outputId": "f0718457-eba5-49c0-b595-e195136f43cf"
      },
      "execution_count": 9,
      "outputs": [
        {
          "output_type": "stream",
          "name": "stdout",
          "text": [
            "0\n",
            "2\n",
            "4\n",
            "6\n",
            "8\n",
            "10\n",
            "12\n",
            "14\n",
            "16\n",
            "18\n",
            "20\n",
            "22\n",
            "24\n",
            "26\n",
            "28\n",
            "30\n",
            "32\n",
            "34\n",
            "36\n",
            "38\n",
            "40\n",
            "42\n",
            "44\n",
            "46\n",
            "48\n"
          ]
        }
      ]
    },
    {
      "cell_type": "code",
      "source": [
        "list1=range(11)\n",
        "for i in list1 :\n",
        "  print(i)\n",
        "  if (i==5):\n",
        "    print(\"Sayi derğeri 5 ve break komutu calisti..\")\n",
        "    break"
      ],
      "metadata": {
        "colab": {
          "base_uri": "https://localhost:8080/"
        },
        "id": "WFMVX0hPAonL",
        "outputId": "0eb647ee-84f9-49cc-e439-1723a99983ea"
      },
      "execution_count": 10,
      "outputs": [
        {
          "output_type": "stream",
          "name": "stdout",
          "text": [
            "0\n",
            "1\n",
            "2\n",
            "3\n",
            "4\n",
            "5\n",
            "Sayi derğeri 5 ve break komutu calisti..\n"
          ]
        }
      ]
    },
    {
      "cell_type": "code",
      "source": [
        "for i in list1 :\n",
        "  if i == 5 :\n",
        "    print(\"Continue komutu calisti ..\")\n",
        "    continue \n",
        "  print(i)"
      ],
      "metadata": {
        "colab": {
          "base_uri": "https://localhost:8080/"
        },
        "id": "AV0U2zSNBtVj",
        "outputId": "96247dbe-4b23-48ef-e0a9-336b75f723df"
      },
      "execution_count": 11,
      "outputs": [
        {
          "output_type": "stream",
          "name": "stdout",
          "text": [
            "0\n",
            "1\n",
            "2\n",
            "3\n",
            "4\n",
            "Continue komutu calisti ..\n",
            "6\n",
            "7\n",
            "8\n",
            "9\n",
            "10\n"
          ]
        }
      ]
    },
    {
      "cell_type": "code",
      "source": [],
      "metadata": {
        "id": "A0go7SYxDmKD"
      },
      "execution_count": null,
      "outputs": []
    }
  ]
}