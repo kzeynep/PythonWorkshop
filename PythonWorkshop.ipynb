{
  "nbformat": 4,
  "nbformat_minor": 0,
  "metadata": {
    "colab": {
      "provenance": [],
      "authorship_tag": "ABX9TyOxlD/nK0JbLCHT7tjSYsa6",
      "include_colab_link": true
    },
    "kernelspec": {
      "name": "python3",
      "display_name": "Python 3"
    },
    "language_info": {
      "name": "python"
    }
  },
  "cells": [
    {
      "cell_type": "markdown",
      "metadata": {
        "id": "view-in-github",
        "colab_type": "text"
      },
      "source": [
        "<a href=\"https://colab.research.google.com/github/kzeynep/python_giris/blob/main/PythonWorkshop.ipynb\" target=\"_parent\"><img src=\"https://colab.research.google.com/assets/colab-badge.svg\" alt=\"Open In Colab\"/></a>"
      ]
    },
    {
      "cell_type": "code",
      "execution_count": null,
      "metadata": {
        "colab": {
          "base_uri": "https://localhost:8080/"
        },
        "id": "zHpz1shLz1qn",
        "outputId": "55d5366f-f530-40f3-dab2-061ae3fee19b"
      },
      "outputs": [
        {
          "output_type": "stream",
          "name": "stdout",
          "text": [
            "13.0\n"
          ]
        }
      ],
      "source": [
        "y = 13 \n",
        "y = y / 2*4\n",
        "y = y // 2\n",
        "print(y)"
      ]
    },
    {
      "cell_type": "code",
      "source": [
        "x=\"Zeynep Karabulut 08 Nisan 1999 doğumludur. Koç burcudur.\""
      ],
      "metadata": {
        "id": "CVgClP5j3QjO"
      },
      "execution_count": null,
      "outputs": []
    },
    {
      "cell_type": "code",
      "source": [
        "type(x)"
      ],
      "metadata": {
        "colab": {
          "base_uri": "https://localhost:8080/"
        },
        "id": "HfhoGlAo3lxo",
        "outputId": "261cf731-9c83-4b0d-a105-ca96cfdc3c0d"
      },
      "execution_count": null,
      "outputs": [
        {
          "output_type": "execute_result",
          "data": {
            "text/plain": [
              "str"
            ]
          },
          "metadata": {},
          "execution_count": 3
        }
      ]
    },
    {
      "cell_type": "code",
      "source": [
        "#Zeynep karabulut koç burcudur. yazmamızı istenilirse:\n",
        "x=\"Zeynep Karabulut 08 Nisan 1999 doğumludur. Koç burcudur.\"\n",
        "x=x[0:17]+x[-14:]\n",
        "print(x)"
      ],
      "metadata": {
        "colab": {
          "base_uri": "https://localhost:8080/"
        },
        "id": "9erlcuFz3omq",
        "outputId": "c710d000-f647-4cd6-f031-0f3ca77b3ea7"
      },
      "execution_count": null,
      "outputs": [
        {
          "output_type": "stream",
          "name": "stdout",
          "text": [
            "Zeynep Karabulut  Koç burcudur.\n"
          ]
        }
      ]
    },
    {
      "cell_type": "code",
      "source": [
        "cost=180\n",
        "tax = cost*0.08\n",
        "tip = cost*0.1\n",
        "total =cost + tax + tip \n",
        "print(f\"The tax is {tax} € and the tip is {tip} € , making the total {total} € \")"
      ],
      "metadata": {
        "colab": {
          "base_uri": "https://localhost:8080/"
        },
        "id": "ZpeDcwnC4kv2",
        "outputId": "fc584773-35ca-4596-e3b8-751bd575e1f3"
      },
      "execution_count": null,
      "outputs": [
        {
          "output_type": "stream",
          "name": "stdout",
          "text": [
            "The tax is 14.4 € and the tip is 18.0 € , making the total 212.4 € \n"
          ]
        }
      ]
    },
    {
      "cell_type": "code",
      "source": [
        "cost =float(input(\"Please enter the cost of the meal :\"))\n",
        "tax = cost*0.08\n",
        "tip = cost*0.1\n",
        "total =cost + tax + tip \n",
        "print(f\"The tax is {tax} € and the tip is {tip} € , making the total {total} € \")"
      ],
      "metadata": {
        "colab": {
          "base_uri": "https://localhost:8080/"
        },
        "id": "80j17BTb6RJw",
        "outputId": "cf552a98-9447-47e3-9f1d-33eb5e4c1ee2"
      },
      "execution_count": null,
      "outputs": [
        {
          "output_type": "stream",
          "name": "stdout",
          "text": [
            "Please enter the cost of the meal :45\n",
            "The tax is 3.6 € and the tip is 4.5 € , making the total 53.1 € \n"
          ]
        }
      ]
    },
    {
      "cell_type": "code",
      "source": [
        "#kullanici giris uygulamasi \n",
        "print(\"************** ATM Giris Paneli **********\")\n",
        "\n",
        "kullanici_adi = \"Zeynep\"\n",
        "parola =\"hello\"\n",
        "input_data_username = input (\"Lütfen kullanici adinizi giriniz : \")\n",
        "input_data_password = input (\"Lütfen kullanici parolanizi giriniz : \")\n",
        "\n",
        "if kullanici_adi != input_data_username and parola == input_data_password : \n",
        "  print(\"Kullanici adiniz hatali ...\")\n",
        "elif kullanici_adi == input_data_username and parola != input_data_password :\n",
        "   print(\"Parolaniz hatali ...\")\n",
        "elif kullanici_adi != input_data_username and parola != input_data_password :\n",
        "  print(\"kullanici adiniz ve parolanız hatali...\")\n",
        "else : \n",
        "  print(\"Tebrikler , basariyla giris yaptiniz ...\")"
      ],
      "metadata": {
        "colab": {
          "base_uri": "https://localhost:8080/"
        },
        "id": "RmtXkSrS6oN4",
        "outputId": "cf7fd8dc-da29-45ad-862c-379044a127a5"
      },
      "execution_count": 2,
      "outputs": [
        {
          "output_type": "stream",
          "name": "stdout",
          "text": [
            "************** ATM Giris Paneli **********\n",
            "Lütfen kullanici adinizi giriniz : Zeynep\n",
            "Lütfen kullanici parolanizi giriniz : hello\n",
            "Tebrikler , basariyla giris yaptiniz ...\n"
          ]
        }
      ]
    },
    {
      "cell_type": "code",
      "source": [
        "def function_operation (a,b):\n",
        "  return a*2 +b \n",
        "def function_operation2(c,d):\n",
        "  return(2**c+d)"
      ],
      "metadata": {
        "id": "KyDRlhI-rn6k"
      },
      "execution_count": 7,
      "outputs": []
    },
    {
      "cell_type": "code",
      "source": [
        "function_operation(3,4) + function_operation2(9,2)"
      ],
      "metadata": {
        "colab": {
          "base_uri": "https://localhost:8080/"
        },
        "id": "hgg2UIDav6tI",
        "outputId": "f48feb6b-78ef-41a3-c3c0-d369bc255c3b"
      },
      "execution_count": 8,
      "outputs": [
        {
          "output_type": "execute_result",
          "data": {
            "text/plain": [
              "524"
            ]
          },
          "metadata": {},
          "execution_count": 8
        }
      ]
    }
  ]
}