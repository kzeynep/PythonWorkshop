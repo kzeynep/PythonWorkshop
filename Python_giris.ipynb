{
  "nbformat": 4,
  "nbformat_minor": 0,
  "metadata": {
    "colab": {
      "provenance": [],
      "authorship_tag": "ABX9TyP705PBYtUMzafUnQy57yk8",
      "include_colab_link": true
    },
    "kernelspec": {
      "name": "python3",
      "display_name": "Python 3"
    },
    "language_info": {
      "name": "python"
    }
  },
  "cells": [
    {
      "cell_type": "markdown",
      "metadata": {
        "id": "view-in-github",
        "colab_type": "text"
      },
      "source": [
        "<a href=\"https://colab.research.google.com/github/kzeynep/python_giris/blob/main/Python_giris.ipynb\" target=\"_parent\"><img src=\"https://colab.research.google.com/assets/colab-badge.svg\" alt=\"Open In Colab\"/></a>"
      ]
    },
    {
      "cell_type": "code",
      "execution_count": 42,
      "metadata": {
        "id": "9YbBQusyQyAa"
      },
      "outputs": [],
      "source": [
        "#Sayi tipleri\n",
        "# int (tamsayi) : 0, 76 , -8\n",
        "# float (ondalıklı sayi):1.2,8.0,-0.06\n",
        "# basit matematik işlemleri : \n",
        "# 1. +(toplama) 2.-(çıkarma) 3.*(çarpma) 4./(bölme) 5.//(tamsayı bölümü) 6.%(kalan bulma)\n"
      ]
    },
    {
      "cell_type": "code",
      "source": [
        "2+5"
      ],
      "metadata": {
        "colab": {
          "base_uri": "https://localhost:8080/",
          "height": 0
        },
        "id": "Trhl8YX55H3p",
        "outputId": "9b989671-ea17-4b29-b6b9-3e86c096d975"
      },
      "execution_count": 43,
      "outputs": [
        {
          "output_type": "execute_result",
          "data": {
            "text/plain": [
              "7"
            ]
          },
          "metadata": {},
          "execution_count": 43
        }
      ]
    },
    {
      "cell_type": "code",
      "source": [
        "8//5"
      ],
      "metadata": {
        "colab": {
          "base_uri": "https://localhost:8080/",
          "height": 0
        },
        "id": "pEhtrwvB5Jtn",
        "outputId": "2a786451-a9c4-4e37-a142-68e4c87b8532"
      },
      "execution_count": 44,
      "outputs": [
        {
          "output_type": "execute_result",
          "data": {
            "text/plain": [
              "1"
            ]
          },
          "metadata": {},
          "execution_count": 44
        }
      ]
    },
    {
      "cell_type": "code",
      "source": [
        "19%6"
      ],
      "metadata": {
        "colab": {
          "base_uri": "https://localhost:8080/",
          "height": 0
        },
        "id": "SJJ3jX4f5MRO",
        "outputId": "a45cbecd-45a1-498f-c04c-8c0323591b0a"
      },
      "execution_count": 45,
      "outputs": [
        {
          "output_type": "execute_result",
          "data": {
            "text/plain": [
              "1"
            ]
          },
          "metadata": {},
          "execution_count": 45
        }
      ]
    },
    {
      "cell_type": "code",
      "source": [
        "#variables(değişkenler)\n",
        "#hatalı olan değişken tanımlama \n",
        "# 2nd_variable=5\n",
        "my_variable =3\n",
        "_1stVarible=34\n",
        "b1 , b2 = 10 , 20"
      ],
      "metadata": {
        "id": "3Vo5qXpx5Q9i"
      },
      "execution_count": 46,
      "outputs": []
    },
    {
      "cell_type": "code",
      "source": [
        "b1\n"
      ],
      "metadata": {
        "colab": {
          "base_uri": "https://localhost:8080/",
          "height": 0
        },
        "id": "ma9KGnfo7c5w",
        "outputId": "fc8c5a3b-1aa7-4de5-a643-f0b68b404367"
      },
      "execution_count": 47,
      "outputs": [
        {
          "output_type": "execute_result",
          "data": {
            "text/plain": [
              "10"
            ]
          },
          "metadata": {},
          "execution_count": 47
        }
      ]
    },
    {
      "cell_type": "code",
      "source": [
        "#Strings (bir karakter listesi oalrak tanımlanabilir.)\n",
        "#(\"Hello word\") ('Hello Word') olarak stringler tanımlanır yani tek tırnak ya da çift tırnak olarak.\n",
        "#stringler için bazı metodlar :\n",
        "#1. lover(tüm string karakterlerini küçük harfe döndürür.)\n",
        "#2. upper(tüm string karakterlerini büyük harfe döndürür.)\n",
        "#3.split (stringi parçalayarak bize bir liste dönderir.)"
      ],
      "metadata": {
        "id": "apIzXqfp7eZW"
      },
      "execution_count": 48,
      "outputs": []
    },
    {
      "cell_type": "code",
      "source": [
        "\"Merhaba Python\""
      ],
      "metadata": {
        "colab": {
          "base_uri": "https://localhost:8080/",
          "height": 36
        },
        "id": "ny-U4a9v8sMn",
        "outputId": "fde5eb69-4f46-4370-8b84-386784b482a1"
      },
      "execution_count": 49,
      "outputs": [
        {
          "output_type": "execute_result",
          "data": {
            "text/plain": [
              "'Merhaba Python'"
            ],
            "application/vnd.google.colaboratory.intrinsic+json": {
              "type": "string"
            }
          },
          "metadata": {},
          "execution_count": 49
        }
      ]
    },
    {
      "cell_type": "code",
      "source": [
        "a=\"HELLO WORD\""
      ],
      "metadata": {
        "id": "esUT3g6D9DB2"
      },
      "execution_count": 50,
      "outputs": []
    },
    {
      "cell_type": "code",
      "source": [
        "a.lower()"
      ],
      "metadata": {
        "colab": {
          "base_uri": "https://localhost:8080/",
          "height": 36
        },
        "id": "34WHPnDZ9Ilm",
        "outputId": "77bc8984-750b-40e0-af3a-71545dc03463"
      },
      "execution_count": 51,
      "outputs": [
        {
          "output_type": "execute_result",
          "data": {
            "text/plain": [
              "'hello word'"
            ],
            "application/vnd.google.colaboratory.intrinsic+json": {
              "type": "string"
            }
          },
          "metadata": {},
          "execution_count": 51
        }
      ]
    },
    {
      "cell_type": "code",
      "source": [
        "#Liste Veri Tİpi \n",
        "#liste veri tipi python programlama dilinde istediğimiz tipdeki nesneleri içinde tutmamazı sağlar.\n",
        "#Listedeki elemanların tiperi aynı olabileceği gibi tamamen farklı da olabilir.\n",
        "#liste indexleri sıfırdan başlar \n",
        "my_list=[1,2,2,3.1,\"Python\"]\n",
        "my_list[4]"
      ],
      "metadata": {
        "colab": {
          "base_uri": "https://localhost:8080/",
          "height": 36
        },
        "id": "msIUsn4q90We",
        "outputId": "4173c19a-ddf4-484c-c73c-bc616776f171"
      },
      "execution_count": 52,
      "outputs": [
        {
          "output_type": "execute_result",
          "data": {
            "text/plain": [
              "'Python'"
            ],
            "application/vnd.google.colaboratory.intrinsic+json": {
              "type": "string"
            }
          },
          "metadata": {},
          "execution_count": 52
        }
      ]
    },
    {
      "cell_type": "code",
      "source": [
        "#boş liste oluşturma \n",
        "liste = []\n",
        "liste1 = list()"
      ],
      "metadata": {
        "id": "Bm9YNZV--o70"
      },
      "execution_count": 53,
      "outputs": []
    },
    {
      "cell_type": "code",
      "source": [
        "# append metodu (listeye yeni bir eleman eklememizi sağlar)\n",
        "# pop metodu (listemizin sonundaki elemanı silmemizi sağlar)\n",
        "# sort metodu (listemizin elemanlarını sıralamamızı sağlar)\n"
      ],
      "metadata": {
        "id": "SLDBbhaS_PF3"
      },
      "execution_count": 54,
      "outputs": []
    },
    {
      "cell_type": "code",
      "source": [
        "#Tuples (değiştirelimeyen veri tiplerine denir.)\n",
        "#count(veri tipindeki elemanların kaç kez tekrar ettiğini gösteren)\n",
        "#index(bulmak istediğiniz elemanı döndürüyor)\n",
        "tuple1=(11,1,1,1,1,1,2,2,2,'hello,8.5')"
      ],
      "metadata": {
        "id": "KWaJ8HjCSMAI"
      },
      "execution_count": 55,
      "outputs": []
    },
    {
      "cell_type": "code",
      "source": [
        "tuple1"
      ],
      "metadata": {
        "colab": {
          "base_uri": "https://localhost:8080/",
          "height": 0
        },
        "id": "E-ZO2h6UScWj",
        "outputId": "ce6fa28b-9d35-4856-d84a-f51415f39fca"
      },
      "execution_count": 56,
      "outputs": [
        {
          "output_type": "execute_result",
          "data": {
            "text/plain": [
              "(11, 1, 1, 1, 1, 1, 2, 2, 2, 'hello,8.5')"
            ]
          },
          "metadata": {},
          "execution_count": 56
        }
      ]
    },
    {
      "cell_type": "code",
      "source": [
        "tuple1.count(1)"
      ],
      "metadata": {
        "colab": {
          "base_uri": "https://localhost:8080/",
          "height": 0
        },
        "id": "DajOh_zISdsc",
        "outputId": "04099eab-bcc1-42a7-98bc-625bc1de1989"
      },
      "execution_count": 57,
      "outputs": [
        {
          "output_type": "execute_result",
          "data": {
            "text/plain": [
              "5"
            ]
          },
          "metadata": {},
          "execution_count": 57
        }
      ]
    },
    {
      "cell_type": "code",
      "source": [
        "#Dictionaries(Sözlük Veri Tipi)\n",
        "#Sözlük veri tipleri anahtar -Değer çiftlerini bir arada tutmak için oluşturulan bir veri tipidir.Aslında gerçek sözcükler gibi çalışırlar key yani anahtar kelimeye value yani değer de o kelimenın karşılığına denk gelir.Sözlük oluştururken {}kullanırız.\n",
        "scores={\"Zeynep\":85, \"Gökçe\":75,\"Ali\":45,\"Mehmet\":78}\n",
        "#keys(bize sözlüğümüz içindeki anahtarları dönerir.)\n",
        "#values(bize sözlüğümüz içindeki değerleri dönerir.)\n",
        "#items(items metodu sözlük içindeki anahtar ve değer çiftkerini bize bir tuple olarak dönderir.)\n",
        "#update(başka bir sözlüğü var olan sözlüğümüze eklememizi sağlayan metodtur.)"
      ],
      "metadata": {
        "id": "vMBdM6E7Ttnh"
      },
      "execution_count": 58,
      "outputs": []
    },
    {
      "cell_type": "code",
      "source": [
        "scores.keys()"
      ],
      "metadata": {
        "colab": {
          "base_uri": "https://localhost:8080/",
          "height": 0
        },
        "id": "ULSXNu_zbXEG",
        "outputId": "2643ec51-573d-4ee0-85df-71fa2a8bb1d5"
      },
      "execution_count": 59,
      "outputs": [
        {
          "output_type": "execute_result",
          "data": {
            "text/plain": [
              "dict_keys(['Zeynep', 'Gökçe', 'Ali', 'Mehmet'])"
            ]
          },
          "metadata": {},
          "execution_count": 59
        }
      ]
    },
    {
      "cell_type": "code",
      "source": [
        "#Boolean(yani True ve False değerleri alan operatör.)\n",
        "a=True\n",
        "a"
      ],
      "metadata": {
        "colab": {
          "base_uri": "https://localhost:8080/",
          "height": 0
        },
        "id": "Qvh9DNHqbpUm",
        "outputId": "1dd30685-78d0-4a83-fdc1-61a0bdbb8ce0"
      },
      "execution_count": 60,
      "outputs": [
        {
          "output_type": "execute_result",
          "data": {
            "text/plain": [
              "True"
            ]
          },
          "metadata": {},
          "execution_count": 60
        }
      ]
    },
    {
      "cell_type": "code",
      "source": [
        "#Built-in Functions bazılarını paylaşacağım\n",
        "#type(fonksiyonu verilen argumanın bize tipini döndüren oldukça faydalı bir fonksiyondur.)\n",
        "type(2.88)\n",
        "#len(fonksiyonu bize verilen argumanın uzunluğunu öğrenmemizi sağlar.)\n",
        "len(scores)\n",
        "#print(verilen değeri bize ekrana basmaya yarayan fonskiyondur.)\n",
        "print(\"Ben Python öğrenmeye başladım.\")"
      ],
      "metadata": {
        "colab": {
          "base_uri": "https://localhost:8080/",
          "height": 0
        },
        "id": "_mv3kR1RdUHX",
        "outputId": "84f6d09d-3fd6-4135-eec9-c351a4444a8e"
      },
      "execution_count": 61,
      "outputs": [
        {
          "output_type": "stream",
          "name": "stdout",
          "text": [
            "Ben Python öğrenmeye başladım.\n"
          ]
        }
      ]
    },
    {
      "cell_type": "code",
      "source": [
        "kullanici_adi=input('Kullanici adinizi giriniz :')\n",
        "print(kullanici_adi)"
      ],
      "metadata": {
        "colab": {
          "base_uri": "https://localhost:8080/",
          "height": 0
        },
        "id": "K35q1zDGfaSs",
        "outputId": "4adca0f7-3737-495f-ab79-0e7c859b401f"
      },
      "execution_count": 62,
      "outputs": [
        {
          "output_type": "stream",
          "name": "stdout",
          "text": [
            "Kullanici adinizi giriniz :zeynep\n",
            "zeynep\n"
          ]
        }
      ]
    },
    {
      "cell_type": "code",
      "source": [
        "kenar=int(input('Lütfen karenin bir kenarını giriniz :'))\n",
        "print('karenin alani : {}'.format(kenar*kenar))"
      ],
      "metadata": {
        "colab": {
          "base_uri": "https://localhost:8080/",
          "height": 0
        },
        "id": "AFXjDhSLhAs8",
        "outputId": "c4da5c2d-3640-4f7b-f88e-ec950bf0df8e"
      },
      "execution_count": 63,
      "outputs": [
        {
          "output_type": "stream",
          "name": "stdout",
          "text": [
            "Lütfen karenin bir kenarını giriniz :7\n",
            "karenin alani : 49\n"
          ]
        }
      ]
    },
    {
      "cell_type": "code",
      "source": [
        "#range(range fonksiyonu bize belli bir aralıktaki sayıları kullanarak kolay bir şekilde bir dizi ya da bir liste oluşturmamızı sağlar.)\n",
        "liste2=list(range(-10,10,2))\n",
        "print(liste2)"
      ],
      "metadata": {
        "colab": {
          "base_uri": "https://localhost:8080/",
          "height": 0
        },
        "id": "lXKBBZeshqNE",
        "outputId": "e87b1fb5-c523-44c5-d079-c219a08e143a"
      },
      "execution_count": 64,
      "outputs": [
        {
          "output_type": "stream",
          "name": "stdout",
          "text": [
            "[-10, -8, -6, -4, -2, 0, 2, 4, 6, 8]\n"
          ]
        }
      ]
    }
  ]
}