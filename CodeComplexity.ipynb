{
  "nbformat": 4,
  "nbformat_minor": 0,
  "metadata": {
    "colab": {
      "provenance": [],
      "authorship_tag": "ABX9TyNo47vuavC9sAGjLupsd6Qt",
      "include_colab_link": true
    },
    "kernelspec": {
      "name": "python3",
      "display_name": "Python 3"
    },
    "language_info": {
      "name": "python"
    }
  },
  "cells": [
    {
      "cell_type": "markdown",
      "metadata": {
        "id": "view-in-github",
        "colab_type": "text"
      },
      "source": [
        "<a href=\"https://colab.research.google.com/github/kzeynep/python_giris/blob/main/CodeComplexity.ipynb\" target=\"_parent\"><img src=\"https://colab.research.google.com/assets/colab-badge.svg\" alt=\"Open In Colab\"/></a>"
      ]
    },
    {
      "cell_type": "code",
      "source": [
        "def multiplication(x,y):\n",
        "  return x*y"
      ],
      "metadata": {
        "id": "zTEFWFRKsTrm"
      },
      "execution_count": null,
      "outputs": []
    },
    {
      "cell_type": "code",
      "source": [
        "multiplication(10,15000)"
      ],
      "metadata": {
        "colab": {
          "base_uri": "https://localhost:8080/"
        },
        "id": "ZOrlyj1Hsb4f",
        "outputId": "bbd2ddc3-7b77-406d-8c36-063414e9df72"
      },
      "execution_count": null,
      "outputs": [
        {
          "output_type": "execute_result",
          "data": {
            "text/plain": [
              "150000"
            ]
          },
          "metadata": {},
          "execution_count": 7
        }
      ]
    },
    {
      "cell_type": "code",
      "source": [
        "#1'den n'e kadar tüm sayıların karesini alıp toplayan kod :\n",
        "def square_sum(n):\n",
        "  sum_variable=0\n",
        "  for x in range (1,n+1):\n",
        "    sum_variable +=x**2\n",
        "  return sum_variable"
      ],
      "metadata": {
        "id": "4-dknqmnsf8u"
      },
      "execution_count": null,
      "outputs": []
    },
    {
      "cell_type": "code",
      "source": [
        "square_sum(3)"
      ],
      "metadata": {
        "colab": {
          "base_uri": "https://localhost:8080/"
        },
        "id": "MWyI6EgtuHhY",
        "outputId": "250eaaa8-d072-44a1-d43c-eb95195c26ce"
      },
      "execution_count": null,
      "outputs": [
        {
          "output_type": "execute_result",
          "data": {
            "text/plain": [
              "14"
            ]
          },
          "metadata": {},
          "execution_count": 9
        }
      ]
    },
    {
      "cell_type": "code",
      "source": [
        "def square_sum2(n):\n",
        "  return n*(n+1)*(2*n+1)//6"
      ],
      "metadata": {
        "id": "Wkap6p9OuL9q"
      },
      "execution_count": null,
      "outputs": []
    },
    {
      "cell_type": "code",
      "source": [
        "square_sum2(3)"
      ],
      "metadata": {
        "colab": {
          "base_uri": "https://localhost:8080/"
        },
        "id": "aK0lJAFOudt-",
        "outputId": "663ccd71-4df7-4b7b-c235-5ebb644a584a"
      },
      "execution_count": null,
      "outputs": [
        {
          "output_type": "execute_result",
          "data": {
            "text/plain": [
              "14"
            ]
          },
          "metadata": {},
          "execution_count": 11
        }
      ]
    },
    {
      "cell_type": "code",
      "source": [
        "# O(1) Constant \n",
        "#O(10000)\n",
        "def contant_big_o(liste):\n",
        "  print(liste[0])"
      ],
      "metadata": {
        "id": "0xNdlWkWuhJK"
      },
      "execution_count": null,
      "outputs": []
    },
    {
      "cell_type": "code",
      "source": [
        "contant_big_o([1,2,3,4,5,6,7,8,9,10])"
      ],
      "metadata": {
        "colab": {
          "base_uri": "https://localhost:8080/"
        },
        "id": "rXzDAZQ10L2V",
        "outputId": "9e629dc9-ec5d-4e33-e991-8dc76b004088"
      },
      "execution_count": null,
      "outputs": [
        {
          "output_type": "stream",
          "name": "stdout",
          "text": [
            "1\n"
          ]
        }
      ]
    },
    {
      "cell_type": "code",
      "source": [
        "#O(n) Linear\n",
        "def linear_big_o(liste):\n",
        "  for value in liste :\n",
        "    print(value)"
      ],
      "metadata": {
        "id": "ALkzLkxH0SuE"
      },
      "execution_count": null,
      "outputs": []
    },
    {
      "cell_type": "code",
      "source": [
        "linear_big_o([1,2,3,4,5])"
      ],
      "metadata": {
        "colab": {
          "base_uri": "https://localhost:8080/"
        },
        "id": "pjv6qiIL0xC0",
        "outputId": "2a1b58bb-0759-4f9b-db6d-20ed07c8774b"
      },
      "execution_count": null,
      "outputs": [
        {
          "output_type": "stream",
          "name": "stdout",
          "text": [
            "1\n",
            "2\n",
            "3\n",
            "4\n",
            "5\n"
          ]
        }
      ]
    },
    {
      "cell_type": "code",
      "source": [
        "#O(n^2) Cubic \n",
        "def find_duplicates(liste):\n",
        "  for i in range(len(liste)):\n",
        "    for j in range(i+1,len(liste)):\n",
        "      if liste[i] == liste[j]:\n",
        "        return True \n",
        "  return False"
      ],
      "metadata": {
        "id": "QSboDGFG01mk"
      },
      "execution_count": null,
      "outputs": []
    },
    {
      "cell_type": "code",
      "source": [
        "find_duplicates([1,2,3,4,5,6,6])"
      ],
      "metadata": {
        "colab": {
          "base_uri": "https://localhost:8080/"
        },
        "id": "TS5t8NBw1nyN",
        "outputId": "afda1ca1-2c42-4da1-e3b2-c76063790582"
      },
      "execution_count": null,
      "outputs": [
        {
          "output_type": "execute_result",
          "data": {
            "text/plain": [
              "True"
            ]
          },
          "metadata": {},
          "execution_count": 19
        }
      ]
    },
    {
      "cell_type": "code",
      "source": [
        "#O(n^3) Cubic\n",
        "def cubic_big_o(liste):\n",
        "  for item_1 in liste :\n",
        "    for item_2 in liste :\n",
        "      for item_3 in liste :\n",
        "        print(item_1,item_2,item_3)\n",
        "        "
      ],
      "metadata": {
        "id": "AMNr-K0d1rvR"
      },
      "execution_count": null,
      "outputs": []
    },
    {
      "cell_type": "code",
      "source": [
        "cubic_big_o([1,23])"
      ],
      "metadata": {
        "colab": {
          "base_uri": "https://localhost:8080/"
        },
        "id": "LLGTkdNq2QrO",
        "outputId": "482a2241-0344-4e49-ad9c-5aaeb73f372e"
      },
      "execution_count": null,
      "outputs": [
        {
          "output_type": "stream",
          "name": "stdout",
          "text": [
            "1 1 1\n",
            "1 1 23\n",
            "1 23 1\n",
            "1 23 23\n",
            "23 1 1\n",
            "23 1 23\n",
            "23 23 1\n",
            "23 23 23\n"
          ]
        }
      ]
    },
    {
      "cell_type": "code",
      "source": [
        "def linear_big_o(liste):\n",
        "  for value in liste :\n",
        "    print(value)\n",
        "  for value in liste :\n",
        "    print(value)"
      ],
      "metadata": {
        "id": "8h2D1g8r2Tyb"
      },
      "execution_count": null,
      "outputs": []
    },
    {
      "cell_type": "code",
      "source": [
        "linear_big_o([1,2,3,4])"
      ],
      "metadata": {
        "colab": {
          "base_uri": "https://localhost:8080/"
        },
        "id": "wN6YSOq62tfj",
        "outputId": "333a54ec-878b-447c-b3d1-f32cdf871ea3"
      },
      "execution_count": null,
      "outputs": [
        {
          "output_type": "stream",
          "name": "stdout",
          "text": [
            "1\n",
            "2\n",
            "3\n",
            "4\n",
            "1\n",
            "2\n",
            "3\n",
            "4\n"
          ]
        }
      ]
    },
    {
      "cell_type": "code",
      "source": [],
      "metadata": {
        "id": "AnG9mAhO2xmH"
      },
      "execution_count": null,
      "outputs": []
    }
  ]
}