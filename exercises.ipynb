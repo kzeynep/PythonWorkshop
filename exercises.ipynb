{
  "nbformat": 4,
  "nbformat_minor": 0,
  "metadata": {
    "colab": {
      "provenance": [],
      "authorship_tag": "ABX9TyM/96e9ElreQdgW8PRGL2LS",
      "include_colab_link": true
    },
    "kernelspec": {
      "name": "python3",
      "display_name": "Python 3"
    },
    "language_info": {
      "name": "python"
    }
  },
  "cells": [
    {
      "cell_type": "markdown",
      "metadata": {
        "id": "view-in-github",
        "colab_type": "text"
      },
      "source": [
        "<a href=\"https://colab.research.google.com/github/kzeynep/PythonWorkshop/blob/main/exercises.ipynb\" target=\"_parent\"><img src=\"https://colab.research.google.com/assets/colab-badge.svg\" alt=\"Open In Colab\"/></a>"
      ]
    },
    {
      "cell_type": "code",
      "execution_count": 2,
      "metadata": {
        "colab": {
          "base_uri": "https://localhost:8080/"
        },
        "id": "g_nJtWbYt_hS",
        "outputId": "a1e467ab-700a-4c48-a07e-1538f41b2a41"
      },
      "outputs": [
        {
          "output_type": "stream",
          "name": "stdout",
          "text": [
            "Please, select a language:Germany\n",
            "Germany is not available.\n"
          ]
        }
      ],
      "source": [
        "#Kullanıcı “Lütfen, bir dil seçin:” istemine yanıt olarak “Almanca” girerse aşağıdaki kodun çıktısı nedir?\n",
        "languages = [\"English\" , \"Spanish\" , \"Turkish\" , \"Italian\" , \"Chinese\"]\n",
        "\n",
        "def select_languages(selection):\n",
        "    if selection in languages:\n",
        "        print(f'You selected: {selection}.')\n",
        "    else:\n",
        "        print(f'{selection} is not available.')\n",
        "\n",
        "selection = input('Please, select a language:')\n",
        "select_languages(selection) \n"
      ]
    },
    {
      "cell_type": "code",
      "source": [
        "#Rehberli projemizde, aşağıdakileri satın alırken ödenmesi gereken toplam tutarı hesaplamak için oluşturduğumuz işlevleri kullanın: 1 Dizüstü Bilgisayar, 3 Kulaklık, 2 İkinci monitör, 2 Mousepad, 1 USB sürücü, 1 Harici sürücü. Toplam miktar ne olacak?\n",
        "# Dizüstü bilgisayarın fiyatı\n",
        "def laptop_cost():\n",
        "    return 2599.0\n",
        "\n",
        "# Kulaklıkların fiyatı\n",
        "def headphone_cost():\n",
        "    return 49.9\n",
        "\n",
        "# İkinci monitörün fiyatı\n",
        "def monitor_cost():\n",
        "    return 499.0\n",
        "\n",
        "# Mousepad'lerin fiyatı\n",
        "def mousepad_cost():\n",
        "    return 15.0\n",
        "\n",
        "# USB sürücünün fiyatı\n",
        "def usb_cost():\n",
        "    return 12.9\n",
        "\n",
        "# Harici sürücünün fiyatı\n",
        "def external_drive_cost():\n",
        "    return 139.9\n",
        "\n",
        "# Toplam fiyatı hesaplayan fonksiyon\n",
        "def calculate_total_cost():\n",
        "    total_cost = laptop_cost() + 3 * headphone_cost() + 2 * monitor_cost() + 2 * mousepad_cost() + usb_cost() + external_drive_cost()\n",
        "    return round(total_cost, 1)\n",
        "\n",
        "# Toplam fiyatı yazdıran kod satırı\n",
        "print(\"Toplam tutar: \", calculate_total_cost(), \"TL\")\n"
      ],
      "metadata": {
        "colab": {
          "base_uri": "https://localhost:8080/"
        },
        "id": "tB97YdosvM79",
        "outputId": "51584acd-8606-4166-c965-a3a45ad39b04"
      },
      "execution_count": 3,
      "outputs": [
        {
          "output_type": "stream",
          "name": "stdout",
          "text": [
            "Toplam tutar:  3929.5 TL\n"
          ]
        }
      ]
    },
    {
      "cell_type": "code",
      "source": [
        "#sum değişkenin değeri nedir \n",
        "person_list = {\n",
        "    \"omer\" : 25 ,\n",
        "    \"winston\" : 34 ,\n",
        "    \"jane\" : 28 ,\n",
        "    \"robin\" : 47\n",
        "}\n",
        "sum = 0\n",
        "for i in person_list.values():\n",
        "  if i >28:\n",
        "    sum += i\n",
        "print(sum)"
      ],
      "metadata": {
        "colab": {
          "base_uri": "https://localhost:8080/"
        },
        "id": "vDZAGxgYwG7a",
        "outputId": "a4a138d2-ba1a-403c-b078-a334e5fb1401"
      },
      "execution_count": 4,
      "outputs": [
        {
          "output_type": "stream",
          "name": "stdout",
          "text": [
            "81\n"
          ]
        }
      ]
    },
    {
      "cell_type": "code",
      "source": [
        "#çıktısı nedir \n",
        "list1=[1,5,7,2,4,12]\n",
        "result_list = []\n",
        "def lest_add():\n",
        "  for i in list1 :\n",
        "    if i%2 == 0 :\n",
        "      result_list.append(i)\n",
        "\n",
        "lest_add()\n",
        "print(result_list)"
      ],
      "metadata": {
        "colab": {
          "base_uri": "https://localhost:8080/"
        },
        "id": "kATNcjiowknf",
        "outputId": "52fa6774-0679-441f-e9f2-17a16cd15d8d"
      },
      "execution_count": 6,
      "outputs": [
        {
          "output_type": "stream",
          "name": "stdout",
          "text": [
            "[2, 4, 12]\n"
          ]
        }
      ]
    },
    {
      "cell_type": "code",
      "source": [
        "#kodun çıktısı nedir ?\n",
        "item_list = ['Laptop', 'Headset', 'Second Monitor', 'Mousepad', 'Usb Dribe', 'External Drive']\n",
        "item_list += ['Mouse', 'Pencil', 'Pen'] # listenin sonuna öğeleri ekle\n",
        "item_list.remove('Mouse')\n",
        "item_list.remove('Pencil')\n",
        "item_list.remove('Pen')\n",
        "print(item_list[0:3])\n",
        "\n"
      ],
      "metadata": {
        "colab": {
          "base_uri": "https://localhost:8080/"
        },
        "id": "0x7xqolCxUeD",
        "outputId": "ff3f4b5d-3f1f-438d-8dfe-20f3d5bc8496"
      },
      "execution_count": 8,
      "outputs": [
        {
          "output_type": "stream",
          "name": "stdout",
          "text": [
            "['Laptop', 'Headset', 'Second Monitor']\n"
          ]
        }
      ]
    },
    {
      "cell_type": "code",
      "source": [
        "#kodun çıktısı nedir \n",
        "name = \"Johnny Doe \"\n",
        "def func():\n",
        "  global name \n",
        "  name = \"John Doe \"\n",
        "\n",
        "func()\n",
        "print(name)"
      ],
      "metadata": {
        "colab": {
          "base_uri": "https://localhost:8080/"
        },
        "id": "Ef5Wzr7byBaq",
        "outputId": "cb82644a-431f-4e4d-a966-3519e9c68227"
      },
      "execution_count": 9,
      "outputs": [
        {
          "output_type": "stream",
          "name": "stdout",
          "text": [
            "John Doe \n"
          ]
        }
      ]
    },
    {
      "cell_type": "code",
      "source": [
        "#kodun çıktısı nedir \n",
        "username = 'New York'\n",
        "password = '2022'\n",
        "input_username = input(\"Enter a username : \" )\n",
        "input_password = input(\"Enter a password : \" )\n",
        "if input_username == username and input_password == password:\n",
        " print(\":)\")\n",
        "elif input_username == username and input_password != password :\n",
        "  print(\":(\")\n",
        "elif input_username != username and input_password == password :\n",
        "  print(\":O\")"
      ],
      "metadata": {
        "colab": {
          "base_uri": "https://localhost:8080/"
        },
        "id": "jV0CZ_vyyulG",
        "outputId": "74712a60-5219-4513-d3f9-841387e878a8"
      },
      "execution_count": 10,
      "outputs": [
        {
          "output_type": "stream",
          "name": "stdout",
          "text": [
            "Enter a username : New York\n",
            "Enter a password : 2024\n",
            ":(\n"
          ]
        }
      ]
    },
    {
      "cell_type": "code",
      "source": [
        "#kodun çıktısı nedir \n",
        "x = 27.5\n",
        "if (int(x) == x):\n",
        "  print(f\"{int(x)} is equal to {x}\" )\n",
        "else :\n",
        "  print(f\"{int(x)} is not equal to {x}\")"
      ],
      "metadata": {
        "colab": {
          "base_uri": "https://localhost:8080/"
        },
        "id": "7-ysrve-z4S5",
        "outputId": "1d7844d2-7d79-47a8-e609-b5631f8f7a88"
      },
      "execution_count": 11,
      "outputs": [
        {
          "output_type": "stream",
          "name": "stdout",
          "text": [
            "27 is not equal to 27.5\n"
          ]
        }
      ]
    },
    {
      "cell_type": "code",
      "source": [
        "#Ödenmesi gereken toplam tutarı hesaplayan fonksiyonu varsayalım:\n",
        "def calculate_total(items):\n",
        "    subtotal = sum(items)\n",
        "    tax = subtotal * 0.18  # vergi oranı %18\n",
        "    total = subtotal + tax\n",
        "    return total\n"
      ],
      "metadata": {
        "id": "AvGtEc7M0Tch"
      },
      "execution_count": 12,
      "outputs": []
    },
    {
      "cell_type": "code",
      "source": [
        "#Vergilerin %25'e çıktığı senaryoda, yukarıdaki fonksiyonu şu şekilde güncelleyebiliriz:\n",
        "def calculate_total_with_higher_tax(items):\n",
        "    subtotal = sum(items)\n",
        "    tax = subtotal * 0.25  # vergi oranı %25\n",
        "    total = subtotal + tax\n",
        "    return total\n"
      ],
      "metadata": {
        "id": "2B5Kik1W0lRJ"
      },
      "execution_count": 13,
      "outputs": []
    },
    {
      "cell_type": "code",
      "source": [],
      "metadata": {
        "id": "Qu2rpmv60ohZ"
      },
      "execution_count": null,
      "outputs": []
    }
  ]
}