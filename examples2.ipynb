{
  "nbformat": 4,
  "nbformat_minor": 0,
  "metadata": {
    "colab": {
      "provenance": [],
      "authorship_tag": "ABX9TyMo0HR1Gu06H15c55W2H11M",
      "include_colab_link": true
    },
    "kernelspec": {
      "name": "python3",
      "display_name": "Python 3"
    },
    "language_info": {
      "name": "python"
    }
  },
  "cells": [
    {
      "cell_type": "markdown",
      "metadata": {
        "id": "view-in-github",
        "colab_type": "text"
      },
      "source": [
        "<a href=\"https://colab.research.google.com/github/kzeynep/PythonWorkshop/blob/main/examples2.ipynb\" target=\"_parent\"><img src=\"https://colab.research.google.com/assets/colab-badge.svg\" alt=\"Open In Colab\"/></a>"
      ]
    },
    {
      "cell_type": "code",
      "execution_count": 2,
      "metadata": {
        "colab": {
          "base_uri": "https://localhost:8080/"
        },
        "id": "qEfUiGE7rrBy",
        "outputId": "6a1756eb-e32e-4501-f276-6203dc7c0d18"
      },
      "outputs": [
        {
          "output_type": "stream",
          "name": "stdout",
          "text": [
            "Java\n"
          ]
        }
      ],
      "source": [
        "class favLanguage :\n",
        "  def printLine(self,language = 'Python'):\n",
        "    print(language)\n",
        "\n",
        "myObject = favLanguage()\n",
        "myObject.printLine(\"Java\")"
      ]
    },
    {
      "cell_type": "code",
      "source": [
        "class Dog : \n",
        "  def __init__(self,name,age):\n",
        "    self.name = name\n",
        "    self.age = age\n",
        "\n",
        "Dog(\"Coco\",3)"
      ],
      "metadata": {
        "colab": {
          "base_uri": "https://localhost:8080/"
        },
        "id": "z-vCitj8vlvy",
        "outputId": "0c0cf9ec-26ce-4f53-ed43-f1b0fbc70332"
      },
      "execution_count": 5,
      "outputs": [
        {
          "output_type": "execute_result",
          "data": {
            "text/plain": [
              "<__main__.Dog at 0x7f6b4adef3a0>"
            ]
          },
          "metadata": {},
          "execution_count": 5
        }
      ]
    },
    {
      "cell_type": "code",
      "source": [
        "class Trading:\n",
        "  def __init__(self, name, year, owner, description, revenue, expenses, profit):\n",
        "    self.name = name\n",
        "    self.year = year\n",
        "    self.owner = owner\n",
        "    self.description = description\n",
        "    self.revenue = revenue\n",
        "    self.expenses = expenses\n",
        "    self.profit = profit\n",
        "    \n",
        "  def calculate_revenue(self):\n",
        "    return self.revenue - self.expenses\n"
      ],
      "metadata": {
        "id": "MksMzDIVxVOg"
      },
      "execution_count": 6,
      "outputs": []
    },
    {
      "cell_type": "code",
      "source": [
        "trading_company1 = Trading('Comtrade', 2002, 'Daniel Ross', 'We revolutionize trading.', 3850, 1720, 1838)\n",
        "revenue = trading_company1.calculate_revenue()\n",
        "print(revenue)\n"
      ],
      "metadata": {
        "colab": {
          "base_uri": "https://localhost:8080/"
        },
        "id": "rV_zBBD5xVXA",
        "outputId": "f55fe93f-d9a9-43ad-83a1-6de6e8d375dd"
      },
      "execution_count": 7,
      "outputs": [
        {
          "output_type": "stream",
          "name": "stdout",
          "text": [
            "2130\n"
          ]
        }
      ]
    },
    {
      "cell_type": "code",
      "source": [
        "class Sales:\n",
        "  def __init__(self,id):\n",
        "    self.id = id\n",
        "    id = 100\n",
        "\n",
        "val = Sales(123)\n",
        "print(val.id)"
      ],
      "metadata": {
        "colab": {
          "base_uri": "https://localhost:8080/"
        },
        "id": "IQiJSgDIxfep",
        "outputId": "39ac9945-46c1-47c2-85bf-47ea610d9ee1"
      },
      "execution_count": 8,
      "outputs": [
        {
          "output_type": "stream",
          "name": "stdout",
          "text": [
            "123\n"
          ]
        }
      ]
    },
    {
      "cell_type": "code",
      "source": [
        "class Logistic:\n",
        "  def __init__(self, name, year, owner, description, inventory_space):\n",
        "    self.name = name\n",
        "    self.year = year\n",
        "    self.owner = owner\n",
        "    self.description = description\n",
        "    self.inventory_space = inventory_space\n",
        "    \n",
        "  def update_inventory_space(self, new_storage_space):\n",
        "    self.inventory_space = new_storage_space / 2\n",
        "    print(f'Inventory space has been changed to {self.inventory_space}!')\n"
      ],
      "metadata": {
        "id": "I4Quqhehxs9I"
      },
      "execution_count": 9,
      "outputs": []
    },
    {
      "cell_type": "code",
      "source": [
        "logistic_company1 = Logistic('Mccart.co', 1881, 'John Mccarthy', 'New Generation of Technology', 5000)\n"
      ],
      "metadata": {
        "id": "hMPJFngJzESp"
      },
      "execution_count": 10,
      "outputs": []
    },
    {
      "cell_type": "code",
      "source": [
        "logistic_company1.update_inventory_space(4500)\n"
      ],
      "metadata": {
        "colab": {
          "base_uri": "https://localhost:8080/"
        },
        "id": "Q682jHFlzF4X",
        "outputId": "3800e4b2-dbfb-4815-e68b-1bc23ca35ffb"
      },
      "execution_count": 11,
      "outputs": [
        {
          "output_type": "stream",
          "name": "stdout",
          "text": [
            "Inventory space has been changed to 2250.0!\n"
          ]
        }
      ]
    },
    {
      "cell_type": "code",
      "source": [
        "class Point:\n",
        "  def __init__(self,x=0,y=0):\n",
        "    self.x = x+1\n",
        "    self.y= y+1\n",
        "\n",
        "p1=Point()\n",
        "print(p1.x,p1.y)"
      ],
      "metadata": {
        "colab": {
          "base_uri": "https://localhost:8080/"
        },
        "id": "elScZSrdzG6t",
        "outputId": "6da3cc14-6d19-4a8c-fc94-e9147088773f"
      },
      "execution_count": 12,
      "outputs": [
        {
          "output_type": "stream",
          "name": "stdout",
          "text": [
            "1 1\n"
          ]
        }
      ]
    },
    {
      "cell_type": "code",
      "source": [
        "def printHello():\n",
        "  print(\"Hello\")\n",
        "\n",
        "a = printHello()"
      ],
      "metadata": {
        "colab": {
          "base_uri": "https://localhost:8080/"
        },
        "id": "-9Apf1ilzaBz",
        "outputId": "d2825ddc-6e7d-4934-bb95-dbfc61ba2cb4"
      },
      "execution_count": 13,
      "outputs": [
        {
          "output_type": "stream",
          "name": "stdout",
          "text": [
            "Hello\n"
          ]
        }
      ]
    },
    {
      "cell_type": "code",
      "source": [
        "class Person:\n",
        "    def __init__(self, name, age):\n",
        "        self.name = name\n",
        "        self.age = age\n"
      ],
      "metadata": {
        "id": "f3k5_pMj0HRb"
      },
      "execution_count": 14,
      "outputs": []
    },
    {
      "cell_type": "code",
      "source": [
        "p1 = Person(\"Alice\", 25)\n"
      ],
      "metadata": {
        "id": "eM1iTSJP0Z13"
      },
      "execution_count": 15,
      "outputs": []
    },
    {
      "cell_type": "code",
      "source": [
        "list1 = [\"Ben \",\"Zeynep\",\"Karabulut\"]\n",
        "list2 = [300,10,500,950,253]\n",
        "\n",
        "dictionary1 = dict(zip(list1,list2))\n",
        "print(dictionary1)"
      ],
      "metadata": {
        "colab": {
          "base_uri": "https://localhost:8080/"
        },
        "id": "QaTWtvcg0ar9",
        "outputId": "0de82986-5739-4b4e-a404-3100dd05ce65"
      },
      "execution_count": 16,
      "outputs": [
        {
          "output_type": "stream",
          "name": "stdout",
          "text": [
            "{'Ben ': 300, 'Zeynep': 10, 'Karabulut': 500}\n"
          ]
        }
      ]
    },
    {
      "cell_type": "code",
      "source": [
        "Line = \"celine with 70 calls, made 2275 dollars and 32$ average deal size in the previous month.\"\n",
        "words = Line.split(' ')\n",
        "print(words[4])"
      ],
      "metadata": {
        "colab": {
          "base_uri": "https://localhost:8080/"
        },
        "id": "vMk4m3JV1CTs",
        "outputId": "bd5aa347-619e-4304-d1f9-faf638ef6889"
      },
      "execution_count": 18,
      "outputs": [
        {
          "output_type": "stream",
          "name": "stdout",
          "text": [
            "made\n"
          ]
        }
      ]
    },
    {
      "cell_type": "code",
      "source": [
        "liste1 = [1, 2, 3]\n",
        "liste2 = ['a', 'b', 'c']\n",
        "birlestirilmis_liste = zip(liste1, liste2)\n",
        "\n",
        "print(list(birlestirilmis_liste))\n",
        "# [(1, 'a'), (2, 'b'), (3, 'c')]\n"
      ],
      "metadata": {
        "colab": {
          "base_uri": "https://localhost:8080/"
        },
        "id": "9CABkwL41y1y",
        "outputId": "765b236e-1368-49c7-947a-669919d7d589"
      },
      "execution_count": 19,
      "outputs": [
        {
          "output_type": "stream",
          "name": "stdout",
          "text": [
            "[(1, 'a'), (2, 'b'), (3, 'c')]\n"
          ]
        }
      ]
    },
    {
      "cell_type": "code",
      "source": [
        "isimler = ['Ahmet', 'Mehmet', 'Ayşe']\n",
        "yaslar = [25, 30, 35]\n",
        "for isim, yas in zip(isimler, yaslar):\n",
        "    print(f\"{isim}'in yaşı {yas}'tir.\")\n"
      ],
      "metadata": {
        "colab": {
          "base_uri": "https://localhost:8080/"
        },
        "id": "OHc6hWeF2WY4",
        "outputId": "607f6003-750c-4913-962f-e921a6088435"
      },
      "execution_count": 20,
      "outputs": [
        {
          "output_type": "stream",
          "name": "stdout",
          "text": [
            "Ahmet'in yaşı 25'tir.\n",
            "Mehmet'in yaşı 30'tir.\n",
            "Ayşe'in yaşı 35'tir.\n"
          ]
        }
      ]
    }
  ]
}